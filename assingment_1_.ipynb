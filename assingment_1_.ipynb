{
  "nbformat": 4,
  "nbformat_minor": 0,
  "metadata": {
    "colab": {
      "provenance": []
    },
    "kernelspec": {
      "name": "python3",
      "display_name": "Python 3"
    },
    "language_info": {
      "name": "python"
    }
  },
  "cells": [
    {
      "cell_type": "markdown",
      "source": [
        "#python basic questions"
      ],
      "metadata": {
        "id": "vWerPo_Cy3ug"
      }
    },
    {
      "cell_type": "markdown",
      "source": [
        "1. What is Python, and why is it popular?\n",
        "\n",
        " A. Python is a high-level, interpreted programming language known for its readability and versatility. It's popular due to:\n",
        "\n",
        " - Simple syntax (easy to learn)\n",
        "\n",
        " - Extensive libraries (e.g: NumPy, Django)\n",
        "\n",
        " - Cross-platform compatibility\n",
        "\n",
        " - Strong community support\n",
        "\n",
        " - Applications in web dev, data science, AI, and automation.\n",
        "\n",
        "2. What is an interpreter in Python?\n",
        "\n",
        "  A. The Python interpreter reads and executes code line by line, converting it\n",
        "     to machine readable byte code. Unlike compiled languages it does not need a separate compilation step.\n",
        "\n",
        "3. What are pre-defined keywords in Python?\n",
        "\n",
        "  A. Keywords are reserved words with special meanings( e.g: if, else, for,\n",
        "  while, def, class).\n",
        "   - Python has 35 keywords (e.g., True, False, None, import).\n",
        "\n",
        "4. Can keywords be used as variable names?\n",
        "  \n",
        "  A. No,Using keywords causes a Syntax Error. Keywords are reserved words that  have special meanings in Python.(e.g., if, else, for, while, def, class, True, False, None)\n",
        "  - (e.g: if = 5) ,it will show as SyntaxError and invalid syntax.\n",
        "\n",
        "5. What is mutability in Python?\n",
        "\n",
        " A. Mutability refers to whether an object’s value can be changed after creation:\n",
        "\n",
        " - Mutable: Can be modified (e.g: lists, dictionaries).\n",
        "\n",
        " - Immutable: Cannot be modified (e.g: tuples, strings, integers).\n",
        "\n",
        "6. Why are lists mutable, but tuples are immutable?\n",
        "\n",
        " A. The key difference between lists and tuples in Python comes down to design purpose, performance, and safety\n",
        "\n",
        " 1. Design Purpose\n",
        "\n",
        "    - Lists are meant for dynamic collections.they can grow, shrink, or change.\n",
        "    - Tuples are meant for fixed, unchanging data like coordinates and database records.\n",
        "\n",
        " 2. Performance Optimization\n",
        "\n",
        "     - Tuples are faster than lists because:\n",
        "\n",
        "       - Python can pre-allocate memory as there is no resizing needed\n",
        "       - Hashable: Can be used as dictionary keys (lists cannot)\n",
        "\n",
        "     - Lists require extra overhead for dynamic resizing.\n",
        "\n",
        "  3. Safety (Data Integrity)\n",
        "     - Tuples prevent accidental modifications, making them safer for:\n",
        "\n",
        "       - Constants (e.g: (3.14, 2.71) for π and e)\n",
        "       - Function arguments (ensuring data is not altered unexpectedly)\n",
        "       - Tuples consume less memory than lists\n",
        "\n",
        "7. What is the difference between “==” and “is” operators in Python?\n",
        "\n",
        " A. \"==\"\n",
        "    - Checks value equality.\n",
        "    - It Comparing data (e.g., numbers, strings, lists).\n",
        "\n",
        "  \"is\"\n",
        "    - Checks memory identity\n",
        "    - CheckS if two variables point to the same object.\n",
        "\n",
        "8. What are logical operators in Python?\n",
        "\n",
        " A. and: True if both operands are true.\n",
        "\n",
        "  or: True if at least one operand is true.\n",
        "\n",
        "  not: this Inverts the boolean value.\n",
        "\n",
        "9. What is type casting in Python?\n",
        "\n",
        " A. Type casting is the process of converting a variable from one data type to another. Python supports both implicit (automatic) and explicit (manual) type casting.\n",
        "  1. Explicit Type Casting\n",
        "   \n",
        "   - You explicitly convert a variable using built-in functions\n",
        "  2. Implicit Type Casting\n",
        "\n",
        "   - Python automatically converts types in certain operations\n",
        "10. What is the difference between implicit and explicit type casting?\n",
        "\n",
        " A. Type casting (type conversion) in Python can happen in two ways:\n",
        "\n",
        "  - Implicit (automatically by Python)\n",
        "\n",
        "  - Explicit (manually by the programmer)\n",
        "\n",
        "\n",
        "  1. Implicit Type Casting (Automatic)\n",
        "\n",
        "- Python automatically converts one data type to another when needed (e.g: in arithmetic operations).\n",
        "\n",
        "- Key Features\n",
        "\n",
        " - No manual intervention required.\n",
        " - Happens in operations involving mixed data types.\n",
        " - Python promotes lower data types (e.g: int) to higher ones (e.g: float) to avoid data loss.\n",
        " 2. Explicit Type Casting (Manual)\n",
        "\n",
        "- The programmer manually converts data types using built-in functions like int(), str(), float(), etc.\n",
        "\n",
        "- Key Features\n",
        "\n",
        " -  Requires explicit function calls.\n",
        " -  Used when Python cannot automatically convert types.\n",
        " -  Helps avoid errors when dealing with user input or mixed types.\n",
        "11. What is the purpose of conditional statements in Python?\n",
        "\n",
        " A. Conditional statements allow a program to make decisions based on whether certain conditions are True or False. They control the flow of execution in a program, enabling different actions depending on different scenarios.\n",
        "\n",
        " - Uses of Conditional Statements\n",
        "  1. Execute Code Based on Conditions\n",
        "  2. Handle Multiple Scenarios\n",
        "  3. Validate Inputs & Prevent Errors\n",
        "  4. Control Loops & Functions\n",
        "  5. Implement Business Logic that define rules like discounts etc.\n",
        "\n",
        "12. How does the elif statement work?\n",
        "\n",
        " A. The elif which isshort for \"else if\" statement allows you to check multiple conditions sequentially after an initial if statement. It ensures that only one block of code executes, even if multiple conditions are True.\n",
        "\n",
        "13. What is the difference between for and while loops?\n",
        "\n",
        " A. Both for and while loops are used for repetition, but they work in fundamentally different ways:\n",
        "\n",
        "  -> for Loop\n",
        "\n",
        "    - Iterates over a sequence (list, tuple, string, etc.) or a fixed range\n",
        "    - Runs for each item in a sequence.\n",
        "    - Automatically handles iteration.\n",
        "    - Ends when the sequence is exhausted.\n",
        "\n",
        "  ->  while Loop\n",
        "\n",
        "   - Repeats code while a condition is True.\n",
        "   - Runs until condition becomes False.\n",
        "   - Requires manual initialization of variables.\n",
        "   - Ends only when the condition is False (risk of infinite loops)\n",
        "\n",
        "14. Describe a scenario where a while loop is more suitable than a for loop?\n",
        "\n",
        " A. A while loop is more suitable when you need to:\n",
        "\n",
        "  - Repeatedly ask for input until the user provides valid data.\n",
        "\n",
        "  - Handle unpredictable iterations (you do not know how many attempts the user will need).\n",
        "\n"
      ],
      "metadata": {
        "id": "6ygPw1_A0UgV"
      }
    },
    {
      "cell_type": "markdown",
      "source": [
        "#Practical Questions"
      ],
      "metadata": {
        "id": "dXhOFA0lj5n2"
      }
    },
    {
      "cell_type": "code",
      "source": [
        "# 1.Write a Python program to print \"Hello, World!\n",
        "\n",
        "print(\"Hello, World!\")\n"
      ],
      "metadata": {
        "colab": {
          "base_uri": "https://localhost:8080/"
        },
        "id": "wxqJwrh8kN20",
        "outputId": "58b546bb-d036-4ea3-f186-2b18e3e8701c"
      },
      "execution_count": null,
      "outputs": [
        {
          "output_type": "stream",
          "name": "stdout",
          "text": [
            "Hello, World!\n"
          ]
        }
      ]
    },
    {
      "cell_type": "code",
      "source": [
        "#2.Write a Python program that displays your name and age\n",
        "\n",
        "name = \"anurag singh\"\n",
        "age = 24\n",
        "\n",
        "print(f\"My name is {name} and I am {age} years old.\")"
      ],
      "metadata": {
        "colab": {
          "base_uri": "https://localhost:8080/"
        },
        "id": "ExhFVpakst8z",
        "outputId": "29807c62-7d8c-4551-deb1-e495099d9995"
      },
      "execution_count": null,
      "outputs": [
        {
          "output_type": "stream",
          "name": "stdout",
          "text": [
            "My name is anurag singh and I am 24 years old.\n"
          ]
        }
      ]
    },
    {
      "cell_type": "code",
      "source": [
        "#3.Write code to print all the pre-defined keywords in Python using the keyword library\n",
        "\n",
        "import keyword\n",
        "\n",
        "# Get all Python keywords\n",
        "python_keywords = keyword.kwlist\n",
        "\n",
        "# Print each keyword on a separate line\n",
        "print(\"Python Keywords:\")\n",
        "for kw in python_keywords:\n",
        "    print(kw)\n"
      ],
      "metadata": {
        "colab": {
          "base_uri": "https://localhost:8080/"
        },
        "id": "E2z_58Kctzvw",
        "outputId": "9700b70e-df88-4c6c-89d0-ee8e98558ea6"
      },
      "execution_count": null,
      "outputs": [
        {
          "output_type": "stream",
          "name": "stdout",
          "text": [
            "Python Keywords:\n",
            "False\n",
            "None\n",
            "True\n",
            "and\n",
            "as\n",
            "assert\n",
            "async\n",
            "await\n",
            "break\n",
            "class\n",
            "continue\n",
            "def\n",
            "del\n",
            "elif\n",
            "else\n",
            "except\n",
            "finally\n",
            "for\n",
            "from\n",
            "global\n",
            "if\n",
            "import\n",
            "in\n",
            "is\n",
            "lambda\n",
            "nonlocal\n",
            "not\n",
            "or\n",
            "pass\n",
            "raise\n",
            "return\n",
            "try\n",
            "while\n",
            "with\n",
            "yield\n"
          ]
        }
      ]
    },
    {
      "cell_type": "code",
      "source": [
        "#4.Write a program that checks if a given word is a Python keyword.\n",
        "\n",
        "import keyword\n",
        "\n",
        "def check_keyword(word):\n",
        "    \"\"\"Check if the input word is a Python keyword.\"\"\"\n",
        "    if keyword.iskeyword(word):\n",
        "        print(f\"'{word}' is a Python keyword!\")\n",
        "    else:\n",
        "        print(f\"'{word}' is not a Python keyword.\")\n",
        "\n",
        "# Get user input\n",
        "user_input = input(\"Enter a word to check: \")\n",
        "\n",
        "# Check the word\n",
        "check_keyword(user_input)\n"
      ],
      "metadata": {
        "colab": {
          "base_uri": "https://localhost:8080/"
        },
        "id": "BEK0lK8lt6Hg",
        "outputId": "0efa9402-84b9-4c5b-d250-a1e95fac5a8f"
      },
      "execution_count": null,
      "outputs": [
        {
          "output_type": "stream",
          "name": "stdout",
          "text": [
            "Enter a word to check: pass\n",
            "'pass' is a Python keyword!\n"
          ]
        }
      ]
    },
    {
      "cell_type": "code",
      "source": [
        "#5. Create a list and tuple in Python, and demonstrate how attempting to change an element works differently for each\n",
        "\n",
        "# Create a list and a tuple with the same elements\n",
        "my_list = [3, 2, 8, 4]\n",
        "my_tuple = (3, 2, 8, 4)\n",
        "\n",
        "print(\"Original list:\", my_list)\n",
        "print(\"Original tuple:\", my_tuple)\n",
        "\n",
        "# Attempt to modify an element\n",
        "try:\n",
        "    print(\"\\nAttempting to modify the list:\")\n",
        "    my_list[0] = 99  # This works\n",
        "    print(\"Modified list:\", my_list)\n",
        "except Exception as e:\n",
        "    print(f\"Error: {type(e).__name__} - {e}\")\n",
        "\n",
        "try:\n",
        "    print(\"\\nAttempting to modify the tuple:\")\n",
        "    my_tuple[0] = 99  # This will fail\n",
        "    print(\"Modified tuple:\", my_tuple)\n",
        "except Exception as e:\n",
        "    print(f\"Error: {type(e).__name__} - {e}\")\n",
        "\n",
        "# Show the final state\n",
        "print(\"\\nFinal list:\", my_list)\n",
        "print(\"Final tuple:\", my_tuple)"
      ],
      "metadata": {
        "colab": {
          "base_uri": "https://localhost:8080/"
        },
        "id": "1p4LFIXbvX_u",
        "outputId": "05cece72-e30a-4c28-b3da-71e943101aba"
      },
      "execution_count": null,
      "outputs": [
        {
          "output_type": "stream",
          "name": "stdout",
          "text": [
            "Original list: [3, 2, 8, 4]\n",
            "Original tuple: (3, 2, 8, 4)\n",
            "\n",
            "Attempting to modify the list:\n",
            "Modified list: [99, 2, 8, 4]\n",
            "\n",
            "Attempting to modify the tuple:\n",
            "Error: TypeError - 'tuple' object does not support item assignment\n",
            "\n",
            "Final list: [99, 2, 8, 4]\n",
            "Final tuple: (3, 2, 8, 4)\n"
          ]
        }
      ]
    },
    {
      "cell_type": "code",
      "source": [
        "#6. Write a function to demonstrate the behavior of mutable and immutable arguments\n",
        "\n",
        "def demonstrate_mutability(arg_list, arg_int, arg_tuple):\n",
        "    \"\"\"\n",
        "    Demonstrates how mutable and immutable arguments behave in functions.\n",
        "    Modifies the received arguments and shows the effects.\n",
        "    \"\"\"\n",
        "    print(\"\\nInside function (before modification):\")\n",
        "    print(f\"List: {arg_list}, Int: {arg_int}, Tuple: {arg_tuple}\")\n",
        "\n",
        "    # Attempt modifications\n",
        "    arg_list.append(4)       # Modifies the original list (mutable)\n",
        "    arg_int += 10            # Creates a new int (immutable)\n",
        "    # arg_tuple[0] = 99      # Would raise TypeError (commented out)\n",
        "\n",
        "    print(\"\\nInside function (after modification):\")\n",
        "    print(f\"List: {arg_list}, Int: {arg_int}, Tuple: {arg_tuple}\")\n",
        "\n",
        "# Original values\n",
        "original_list = [1, 2, 3]\n",
        "original_int = 10\n",
        "original_tuple = (1, 2, 3)\n",
        "\n",
        "print(\"Outside function (before call):\")\n",
        "print(f\"List: {original_list}, Int: {original_int}, Tuple: {original_tuple}\")\n",
        "\n",
        "# Call the function\n",
        "demonstrate_mutability(original_list, original_int, original_tuple)\n",
        "\n",
        "print(\"\\nOutside function (after call):\")\n",
        "print(f\"List: {original_list}, Int: {original_int}, Tuple: {original_tuple}\")"
      ],
      "metadata": {
        "colab": {
          "base_uri": "https://localhost:8080/"
        },
        "id": "Azrru0siv6oM",
        "outputId": "e52db67a-0e85-4720-f524-062213fc3f65"
      },
      "execution_count": null,
      "outputs": [
        {
          "output_type": "stream",
          "name": "stdout",
          "text": [
            "Outside function (before call):\n",
            "List: [1, 2, 3], Int: 10, Tuple: (1, 2, 3)\n",
            "\n",
            "Inside function (before modification):\n",
            "List: [1, 2, 3], Int: 10, Tuple: (1, 2, 3)\n",
            "\n",
            "Inside function (after modification):\n",
            "List: [1, 2, 3, 4], Int: 20, Tuple: (1, 2, 3)\n",
            "\n",
            "Outside function (after call):\n",
            "List: [1, 2, 3, 4], Int: 10, Tuple: (1, 2, 3)\n"
          ]
        }
      ]
    },
    {
      "cell_type": "code",
      "source": [
        "#7.Write a program that performs basic arithmetic operations on two user-input numbers.\n",
        "def calculate():\n",
        "    print(\"Basic Arithmetic Calculator\")\n",
        "    print(\"--------------------------\")\n",
        "\n",
        "    try:\n",
        "        # Get user input with validation\n",
        "        num1 = float(input(\"Enter first number: \"))\n",
        "        num2 = float(input(\"Enter second number: \"))\n",
        "\n",
        "        # Perform calculations\n",
        "        print(\"\\nResults:\")\n",
        "        print(f\"{num1} + {num2} = {num1 + num2}\")  # Addition\n",
        "        print(f\"{num1} - {num2} = {num1 - num2}\")  # Subtraction\n",
        "        print(f\"{num1} * {num2} = {num1 * num2}\")  # Multiplication\n",
        "\n",
        "        # Handle division carefully\n",
        "        if num2 != 0:\n",
        "            print(f\"{num1} / {num2} = {num1 / num2:.2f}\")  # Division with 2 decimal places\n",
        "            print(f\"{num1} % {num2} = {num1 % num2}\")     # Modulus\n",
        "        else:\n",
        "            print(\"Cannot divide by zero (division and modulus skipped)\")\n",
        "\n",
        "        # Additional operations\n",
        "        print(f\"{num1} ** {num2} = {num1 ** num2}\")  # Exponentiation\n",
        "        print(f\"{num1} // {num2} = {num1 // num2}\") if num2 != 0 else print(\"Integer division by zero skipped\")\n",
        "\n",
        "    except ValueError:\n",
        "        print(\"Error: Please enter valid numbers!\")\n",
        "    except Exception as e:\n",
        "        print(f\"An unexpected error occurred: {e}\")\n",
        "\n",
        "# Run the calculator\n",
        "calculate()\n"
      ],
      "metadata": {
        "colab": {
          "base_uri": "https://localhost:8080/"
        },
        "id": "yEusTVY806lC",
        "outputId": "28dd5fcc-cb3c-4a4f-a336-b58ddd019764"
      },
      "execution_count": null,
      "outputs": [
        {
          "output_type": "stream",
          "name": "stdout",
          "text": [
            "Basic Arithmetic Calculator\n",
            "--------------------------\n",
            "Enter first number: 4\n",
            "Enter second number: 7\n",
            "\n",
            "Results:\n",
            "4.0 + 7.0 = 11.0\n",
            "4.0 - 7.0 = -3.0\n",
            "4.0 * 7.0 = 28.0\n",
            "4.0 / 7.0 = 0.57\n",
            "4.0 % 7.0 = 4.0\n",
            "4.0 ** 7.0 = 16384.0\n",
            "4.0 // 7.0 = 0.0\n"
          ]
        }
      ]
    },
    {
      "cell_type": "code",
      "source": [
        "#8. Write a program to demonstrate the use of logical operators.\n",
        "# Logical Operators Demonstration\n",
        "print(\"Python Logical Operators Demonstration\")\n",
        "print(\"-----------------------------------\")\n",
        "\n",
        "def evaluate(a, b):\n",
        "    print(f\"\\nFor a = {a}, b = {b}:\")\n",
        "\n",
        "    # AND operator (both must be True)\n",
        "    print(f\"AND (a > 0 and b > 0): {a > 0 and b > 0}\")\n",
        "\n",
        "    # OR operator (at least one True)\n",
        "    print(f\"OR  (a > 0 or b > 0):  {a > 0 or b > 0}\")\n",
        "\n",
        "    # NOT operator (inverts the boolean)\n",
        "    print(f\"NOT (not a > 0):       {not a > 0}\")\n",
        "\n",
        "# Test cases\n",
        "evaluate(5, 3)    # Both positive\n",
        "evaluate(-2, 4)   # One positive\n",
        "evaluate(0, -1)   # Both non-positive\n",
        "evaluate(True, False)  # Boolean values\n",
        "\n",
        "# Practical Example\n",
        "age = 23\n",
        "has_license = True\n",
        "print(\"\\nPractical Example (Driving Eligibility):\")\n",
        "print(f\"Age: {age}, Has License: {has_license}\")\n",
        "print(\"Can drive?:\", age >= 18 and has_license)\n",
        "\n",
        "# Truth Table Demonstration\n",
        "print(\"\\nBasic Truth Table:\")\n",
        "print(\"| A     | B     | A and B | A or B | not A |\")\n",
        "print(\"|-------|-------|---------|--------|-------|\")\n",
        "for a in [False, True]:\n",
        "    for b in [False, True]:\n",
        "        print(f\"| {a:<5} | {b:<5} | {a and b:<7} | {a or b:<6} | {not a:<5} |\")"
      ],
      "metadata": {
        "colab": {
          "base_uri": "https://localhost:8080/"
        },
        "id": "tiV74FlK23D-",
        "outputId": "6edaba00-71f0-435e-cffc-3eda52c726ab"
      },
      "execution_count": null,
      "outputs": [
        {
          "output_type": "stream",
          "name": "stdout",
          "text": [
            "Python Logical Operators Demonstration\n",
            "-----------------------------------\n",
            "\n",
            "For a = 5, b = 3:\n",
            "AND (a > 0 and b > 0): True\n",
            "OR  (a > 0 or b > 0):  True\n",
            "NOT (not a > 0):       False\n",
            "\n",
            "For a = -2, b = 4:\n",
            "AND (a > 0 and b > 0): False\n",
            "OR  (a > 0 or b > 0):  True\n",
            "NOT (not a > 0):       True\n",
            "\n",
            "For a = 0, b = -1:\n",
            "AND (a > 0 and b > 0): False\n",
            "OR  (a > 0 or b > 0):  False\n",
            "NOT (not a > 0):       True\n",
            "\n",
            "For a = True, b = False:\n",
            "AND (a > 0 and b > 0): False\n",
            "OR  (a > 0 or b > 0):  True\n",
            "NOT (not a > 0):       False\n",
            "\n",
            "Practical Example (Driving Eligibility):\n",
            "Age: 23, Has License: True\n",
            "Can drive?: True\n",
            "\n",
            "Basic Truth Table:\n",
            "| A     | B     | A and B | A or B | not A |\n",
            "|-------|-------|---------|--------|-------|\n",
            "| 0     | 0     | 0       | 0      | 1     |\n",
            "| 0     | 1     | 0       | 1      | 1     |\n",
            "| 1     | 0     | 0       | 1      | 0     |\n",
            "| 1     | 1     | 1       | 1      | 0     |\n"
          ]
        }
      ]
    },
    {
      "cell_type": "code",
      "source": [
        "#9.Write a Python program to convert user input from string to integer, float, and boolean types\n",
        "\n",
        "def convert_input_types():\n",
        "    \"\"\"Convert user input to integer, float, and boolean types.\"\"\"\n",
        "\n",
        "    # Get user input\n",
        "    user_input = input(\"Enter a value: \")\n",
        "\n",
        "    # Convert to integer\n",
        "    try:\n",
        "        int_value = int(user_input)\n",
        "    except ValueError:\n",
        "        int_value = \"Could not convert to integer\"\n",
        "\n",
        "    # Convert to float\n",
        "    try:\n",
        "        float_value = float(user_input)\n",
        "    except ValueError:\n",
        "        float_value = \"Could not convert to float\"\n",
        "\n",
        "    # Convert to boolean\n",
        "    # This is more nuanced - we'll consider common \"True/False\" strings\n",
        "    bool_value = None\n",
        "    if user_input.lower() in ('true', 't', 'yes', 'y', '1'):\n",
        "        bool_value = True\n",
        "    elif user_input.lower() in ('false', 'f', 'no', 'n', '0'):\n",
        "        bool_value = False\n",
        "    else:\n",
        "        bool_value = \"Could not clearly determine boolean value\"\n",
        "\n",
        "    # Display results\n",
        "    print(\"\\nConversion Results:\")\n",
        "    print(f\"Original input (string): {user_input}\")\n",
        "    print(f\"Integer: {int_value}\")\n",
        "    print(f\"Float: {float_value}\")\n",
        "    print(f\"Boolean: {bool_value}\")\n",
        "\n",
        "# Run the function\n",
        "if __name__ == \"__main__\":\n",
        "    convert_input_types()"
      ],
      "metadata": {
        "colab": {
          "base_uri": "https://localhost:8080/"
        },
        "id": "sl_DVvLV3ijs",
        "outputId": "00c17b5f-6ee2-48a9-8612-4fce04543387"
      },
      "execution_count": null,
      "outputs": [
        {
          "output_type": "stream",
          "name": "stdout",
          "text": [
            "Enter a value: true\n",
            "\n",
            "Conversion Results:\n",
            "Original input (string): true\n",
            "Integer: Could not convert to integer\n",
            "Float: Could not convert to float\n",
            "Boolean: True\n"
          ]
        }
      ]
    },
    {
      "cell_type": "code",
      "source": [
        "#10.Write code to demonstrate type casting with list elements.\n",
        "\n",
        "def cast_list_elements(input_list):\n",
        "    \"\"\"Demonstrate type casting for each element in a list.\"\"\"\n",
        "\n",
        "    print(\"\\nOriginal list:\", input_list)\n",
        "    print(\"Element types:\", [type(item) for item in input_list])\n",
        "\n",
        "    # Initialize lists to store casted values\n",
        "    int_list = []\n",
        "    float_list = []\n",
        "    bool_list = []\n",
        "    str_list = []\n",
        "\n",
        "    for item in input_list:\n",
        "        # Convert to string (always works)\n",
        "        str_val = str(item)\n",
        "        str_list.append(str_val)\n",
        "\n",
        "        # Try converting to integer\n",
        "        try:\n",
        "            int_val = int(float(str_val))  # Convert to float first to handle strings like \"3.14\"\n",
        "            int_list.append(int_val)\n",
        "        except (ValueError, TypeError):\n",
        "            int_list.append(\"Conversion failed\")\n",
        "\n",
        "        # Try converting to float\n",
        "        try:\n",
        "            float_val = float(str_val)\n",
        "            float_list.append(float_val)\n",
        "        except (ValueError, TypeError):\n",
        "            float_list.append(\"Conversion failed\")\n",
        "\n",
        "        # Convert to boolean\n",
        "        # More nuanced - we'll consider common \"True/False\" strings\n",
        "        if str(item).lower() in ('true', 't', 'yes', 'y', '1'):\n",
        "            bool_list.append(True)\n",
        "        elif str(item).lower() in ('false', 'f', 'no', 'n', '0'):\n",
        "            bool_list.append(False)\n",
        "        else:\n",
        "            bool_list.append(\"Ambiguous boolean\")\n",
        "\n",
        "    # Display results\n",
        "    print(\"\\nConversion Results:\")\n",
        "    print(f\"Original elements: {input_list}\")\n",
        "    print(f\"String conversion: {str_list}\")\n",
        "    print(f\"Integer conversion: {int_list}\")\n",
        "    print(f\"Float conversion: {float_list}\")\n",
        "    print(f\"Boolean conversion: {bool_list}\")\n",
        "\n",
        "# Example usage\n",
        "if __name__ == \"__main__\":\n",
        "    # Create a list with mixed types\n",
        "    mixed_list = [10, 3.14, \"25\", \"3.7\", \"hello\", True, False, \"True\", \"False\", \"1\", \"0\", None]\n",
        "\n",
        "    # Demonstrate type casting\n",
        "    cast_list_elements(mixed_list)"
      ],
      "metadata": {
        "colab": {
          "base_uri": "https://localhost:8080/"
        },
        "id": "2AaH2GQV4neE",
        "outputId": "55d2507f-4bee-4bb5-f9a2-b69af04f6418"
      },
      "execution_count": null,
      "outputs": [
        {
          "output_type": "stream",
          "name": "stdout",
          "text": [
            "\n",
            "Original list: [10, 3.14, '25', '3.7', 'hello', True, False, 'True', 'False', '1', '0', None]\n",
            "Element types: [<class 'int'>, <class 'float'>, <class 'str'>, <class 'str'>, <class 'str'>, <class 'bool'>, <class 'bool'>, <class 'str'>, <class 'str'>, <class 'str'>, <class 'str'>, <class 'NoneType'>]\n",
            "\n",
            "Conversion Results:\n",
            "Original elements: [10, 3.14, '25', '3.7', 'hello', True, False, 'True', 'False', '1', '0', None]\n",
            "String conversion: ['10', '3.14', '25', '3.7', 'hello', 'True', 'False', 'True', 'False', '1', '0', 'None']\n",
            "Integer conversion: [10, 3, 25, 3, 'Conversion failed', 'Conversion failed', 'Conversion failed', 'Conversion failed', 'Conversion failed', 1, 0, 'Conversion failed']\n",
            "Float conversion: [10.0, 3.14, 25.0, 3.7, 'Conversion failed', 'Conversion failed', 'Conversion failed', 'Conversion failed', 'Conversion failed', 1.0, 0.0, 'Conversion failed']\n",
            "Boolean conversion: ['Ambiguous boolean', 'Ambiguous boolean', 'Ambiguous boolean', 'Ambiguous boolean', 'Ambiguous boolean', True, False, True, False, True, False, 'Ambiguous boolean']\n"
          ]
        }
      ]
    },
    {
      "cell_type": "code",
      "source": [
        "#11.Write a program that checks if a number is positive, negative, or zero.\n",
        "def check_number():\n",
        "    \"\"\"Check if a number is positive, negative, or zero.\"\"\"\n",
        "\n",
        "    try:\n",
        "        # Get user input and convert to float\n",
        "        num = float(input(\"Enter a number: \"))\n",
        "\n",
        "        # Check the number's sign\n",
        "        if num > 0:\n",
        "            print(f\"{num} is a positive number.\")\n",
        "        elif num < 0:\n",
        "            print(f\"{num} is a negative number.\")\n",
        "        else:\n",
        "            print(\"The number is zero.\")\n",
        "\n",
        "    except ValueError:\n",
        "        print(\"Invalid input. Please enter a valid number.\")\n",
        "\n",
        "# Run the program\n",
        "if __name__ == \"__main__\":\n",
        "    check_number()\n"
      ],
      "metadata": {
        "colab": {
          "base_uri": "https://localhost:8080/"
        },
        "id": "B8kN2lvi5gUi",
        "outputId": "2dfc27ef-3e88-4f5f-ccbe-6026b225b7dc"
      },
      "execution_count": null,
      "outputs": [
        {
          "output_type": "stream",
          "name": "stdout",
          "text": [
            "Enter a number: -56\n",
            "-56.0 is a negative number.\n"
          ]
        }
      ]
    },
    {
      "cell_type": "code",
      "source": [
        "#12.Write a for loop to print numbers from 1 to 10.\n",
        "\n",
        "# Prints numbers 1 through 10\n",
        "for i in range(1, 11):  # range(start, stop) - stops before 11\n",
        "    print(i)"
      ],
      "metadata": {
        "id": "lQcJiNFD598_",
        "colab": {
          "base_uri": "https://localhost:8080/"
        },
        "outputId": "479f2b49-4e86-4195-f08a-c786a2f3eb82"
      },
      "execution_count": 1,
      "outputs": [
        {
          "output_type": "stream",
          "name": "stdout",
          "text": [
            "1\n",
            "2\n",
            "3\n",
            "4\n",
            "5\n",
            "6\n",
            "7\n",
            "8\n",
            "9\n",
            "10\n"
          ]
        }
      ]
    },
    {
      "cell_type": "code",
      "source": [
        "#13. Write a Python program to find the sum of all even numbers between 1 and 50\n",
        "\n",
        "sum_even = 0\n",
        "\n",
        "for num in range(2, 51, 2):  # Start at 2, end before 51, step by 2\n",
        "    sum_even += num\n",
        "\n",
        "print(\"Sum of even numbers from 1 to 50:\", sum_even)"
      ],
      "metadata": {
        "colab": {
          "base_uri": "https://localhost:8080/"
        },
        "id": "cA0Trnz5VXI7",
        "outputId": "b4becd38-fa3c-44cb-8432-ea4aa2757e35"
      },
      "execution_count": 2,
      "outputs": [
        {
          "output_type": "stream",
          "name": "stdout",
          "text": [
            "Sum of even numbers from 1 to 50: 650\n"
          ]
        }
      ]
    },
    {
      "cell_type": "code",
      "source": [
        "#14.Write a program to reverse a string using a while loop\n",
        "\n",
        "def reverse_string(input_str):\n",
        "    \"\"\"Reverse a string using a while loop.\"\"\"\n",
        "    reversed_str = \"\"\n",
        "    index = len(input_str) - 1  # Start from the last character\n",
        "\n",
        "    while index >= 0:\n",
        "        reversed_str += input_str[index]\n",
        "        index -= 1  # Move to the previous character\n",
        "\n",
        "    return reversed_str\n",
        "\n",
        "# Get user input\n",
        "user_input = input(\"Enter a string to reverse: \")\n",
        "\n",
        "# Reverse and display the result\n",
        "reversed_result = reverse_string(user_input)\n",
        "print(f\"Reversed string: {reversed_result}\")"
      ],
      "metadata": {
        "colab": {
          "base_uri": "https://localhost:8080/"
        },
        "id": "n23RUL3ZV3jJ",
        "outputId": "d1edad8b-bf5c-4e79-9731-5e11131e7f2c"
      },
      "execution_count": 3,
      "outputs": [
        {
          "output_type": "stream",
          "name": "stdout",
          "text": [
            "Enter a string to reverse: thanks.\n",
            "Reversed string: .sknaht\n"
          ]
        }
      ]
    },
    {
      "cell_type": "code",
      "source": [
        "#15. Write a Python program to calculate the factorial of a number provided by the user using a while loop\n",
        "\n",
        "def calculate_factorial():\n",
        "\n",
        "\n",
        "    # Get user input\n",
        "    try:\n",
        "        num = int(input(\"Enter a non-negative integer: \"))\n",
        "\n",
        "        if num < 0:\n",
        "            print(\"Factorial is not defined for negative numbers.\")\n",
        "            return\n",
        "\n",
        "        factorial = 1\n",
        "        current = num\n",
        "\n",
        "        # Calculate factorial using while loop\n",
        "        while current > 0:\n",
        "            factorial *= current\n",
        "            current -= 1\n",
        "\n",
        "        print(f\"The factorial of {num} is: {factorial}\")\n",
        "\n",
        "    except ValueError:\n",
        "        print(\"Invalid input. Please enter a non-negative integer.\")\n",
        "\n",
        "# Run the program\n",
        "if __name__ == \"__main__\":\n",
        "    calculate_factorial()"
      ],
      "metadata": {
        "colab": {
          "base_uri": "https://localhost:8080/"
        },
        "id": "eIR8VoWSWTtp",
        "outputId": "b2bb90ea-bba3-4b4b-a191-4d9c83641b6b"
      },
      "execution_count": 4,
      "outputs": [
        {
          "output_type": "stream",
          "name": "stdout",
          "text": [
            "Enter a non-negative integer: 7\n",
            "The factorial of 7 is: 5040\n"
          ]
        }
      ]
    }
  ]
}